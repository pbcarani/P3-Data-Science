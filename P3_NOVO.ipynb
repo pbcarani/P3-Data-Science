{
 "cells": [
  {
   "cell_type": "markdown",
   "metadata": {},
   "source": [
    "\n",
    "\n",
    "# Projeto 3 - Ciência dos dados \n",
    "\n",
    "###### Nomes: Gustavo, Matheus, Pedro Carani e Thiago David\n",
    "\n",
    "\n",
    "\n",
    "\n"
   ]
  },
  {
   "cell_type": "markdown",
   "metadata": {},
   "source": [
    "# Modelo preditivo do indíce Ibovespa."
   ]
  },
  {
   "cell_type": "markdown",
   "metadata": {},
   "source": [
    "# O que é o Ibovespa?"
   ]
  },
  {
   "cell_type": "markdown",
   "metadata": {},
   "source": [
    " O Ibovespa é o principal indicador de desempenho das ações negociadas na bolsa de valores B3, composto pelas empresas mais importantes do mercado de capitais brasileiros, é um ótimo paramêtro da economia nacional.\n",
    "\n"
   ]
  },
  {
   "cell_type": "markdown",
   "metadata": {},
   "source": [
    " A pergunta que nosso modelo tenta responder é: \n",
    "\n",
    "\n",
    "# É possível prever o indíce baseado no passado? "
   ]
  },
  {
   "cell_type": "markdown",
   "metadata": {},
   "source": [
    "Para responder essa pergunta, vamos fazer um modelo preditivo utilizando a técnica de Regressão Linear."
   ]
  },
  {
   "cell_type": "markdown",
   "metadata": {},
   "source": [
    "## Regressão Linear"
   ]
  },
  {
   "cell_type": "markdown",
   "metadata": {},
   "source": [
    " A regressão linear é um método de ajuste de reta dos dados que estão sendo considerados, e pode ser calculado de acordo com a seguinte fórmula: \n",
    "\n",
    "$$y_i=\\beta_0+\\beta_1x_i+\\epsilon_i$$\n",
    "\n",
    "Também, ajuda na procura por padrões e anomalias desses dados.  Primeiro, para fazer uma regressão linear, é necessário achar os coeficientes $\\beta_0$ e $\\beta_1$.\n",
    "\n",
    "Para achar o $\\beta_0$ nós usamos a seguinte fórmula:\n",
    "\n",
    "$$\\beta_0=\\bar{y}-\\beta_1\\bar{x}$$\n",
    "\n",
    "E para achar o $\\beta_1$ usamos a seguinte fórmula: $$\\beta_1=\\frac{S_{XY}}{S_{XX}}=\\frac{\\sum_{i=1}^n(x_i-\\bar{x})(y_i-\\bar{y})}{\\sum_{i=1}^n(x_i-\\bar{x})^2}$$\n",
    "\n",
    "Após achar os coeficientes é necessário achar o vetor de resíduos através da fórmula: $\\epsilon_i=y_i-(\\beta_0+\\beta_1x_i)$. Com os coeficientes e o vetor de resíduo já é possível a reta da regressão linear.\n",
    "    "
   ]
  },
  {
   "cell_type": "markdown",
   "metadata": {},
   "source": [
    "## Regressão Linear - Python"
   ]
  },
  {
   "cell_type": "markdown",
   "metadata": {},
   "source": [
    "   Para podermos usar a regressão linear no nosso projeto usamos as seguintes bibliotecas: "
   ]
  },
  {
   "cell_type": "markdown",
   "metadata": {},
   "source": [
    "#### Importando bibliotecas: "
   ]
  },
  {
   "cell_type": "code",
   "execution_count": 1,
   "metadata": {},
   "outputs": [],
   "source": [
    "import matplotlib.pyplot as plt \n",
    "import numpy as np \n",
    "import pandas as pd\n",
    "from scipy.stats import norm \n",
    "from sklearn.model_selection import train_test_split\n",
    "from sklearn.linear_model import LinearRegression\n",
    "from sklearn.metrics import accuracy_score\n",
    "from sklearn import metrics\n",
    "import random\n",
    "np.random.seed(1)"
   ]
  },
  {
   "cell_type": "markdown",
   "metadata": {},
   "source": [
    "## Sobre o nosso Modelo:\n",
    "   Os dados foram coletados do site https://finance.yahoo.com/:\n",
    "\n",
    "     - Ibovespa (2018-2019)\n",
    "     \n",
    "     \n",
    "     \n",
    "     \n",
    "   "
   ]
  },
  {
   "cell_type": "markdown",
   "metadata": {},
   "source": [
    "## Qual variável explicativa vai ser utilizada?\n",
    "\n",
    " A variável explicativa a ser utilzada no modelo, será os valores do índice ibovespa 1 passo atras, já que o modelo preditivo é baseado no passado do índice. Ou seja, o nosso X, vai ser equivalente ao Y(n-1), onde Y é a pontuacao do Ibovespa.\n"
   ]
  },
  {
   "cell_type": "markdown",
   "metadata": {},
   "source": [
    "## Nosso modelo:"
   ]
  },
  {
   "cell_type": "markdown",
   "metadata": {},
   "source": [
    "## Lendo os arquivos de dados:"
   ]
  },
  {
   "cell_type": "code",
   "execution_count": 2,
   "metadata": {},
   "outputs": [],
   "source": [
    "ibov=pd.read_csv(\"bov.csv\")"
   ]
  },
  {
   "cell_type": "markdown",
   "metadata": {},
   "source": [
    "# Análise exploratória dos dados:"
   ]
  },
  {
   "cell_type": "markdown",
   "metadata": {},
   "source": [
    "## Dados do Ibovespa:"
   ]
  },
  {
   "cell_type": "code",
   "execution_count": 3,
   "metadata": {},
   "outputs": [
    {
     "data": {
      "text/html": [
       "<div>\n",
       "<style scoped>\n",
       "    .dataframe tbody tr th:only-of-type {\n",
       "        vertical-align: middle;\n",
       "    }\n",
       "\n",
       "    .dataframe tbody tr th {\n",
       "        vertical-align: top;\n",
       "    }\n",
       "\n",
       "    .dataframe thead th {\n",
       "        text-align: right;\n",
       "    }\n",
       "</style>\n",
       "<table border=\"1\" class=\"dataframe\">\n",
       "  <thead>\n",
       "    <tr style=\"text-align: right;\">\n",
       "      <th></th>\n",
       "      <th>Date</th>\n",
       "      <th>Open</th>\n",
       "      <th>High</th>\n",
       "      <th>Low</th>\n",
       "      <th>Close</th>\n",
       "      <th>Adj Close</th>\n",
       "      <th>Volume</th>\n",
       "    </tr>\n",
       "  </thead>\n",
       "  <tbody>\n",
       "    <tr>\n",
       "      <th>0</th>\n",
       "      <td>2018-11-08</td>\n",
       "      <td>87719.0</td>\n",
       "      <td>88570.0</td>\n",
       "      <td>85620.0</td>\n",
       "      <td>85620.0</td>\n",
       "      <td>85620.0</td>\n",
       "      <td>5297700</td>\n",
       "    </tr>\n",
       "    <tr>\n",
       "      <th>1</th>\n",
       "      <td>2018-11-09</td>\n",
       "      <td>85620.0</td>\n",
       "      <td>86233.0</td>\n",
       "      <td>84030.0</td>\n",
       "      <td>85641.0</td>\n",
       "      <td>85641.0</td>\n",
       "      <td>4814400</td>\n",
       "    </tr>\n",
       "    <tr>\n",
       "      <th>2</th>\n",
       "      <td>2018-11-12</td>\n",
       "      <td>85644.0</td>\n",
       "      <td>86227.0</td>\n",
       "      <td>85009.0</td>\n",
       "      <td>85525.0</td>\n",
       "      <td>85525.0</td>\n",
       "      <td>3534000</td>\n",
       "    </tr>\n",
       "    <tr>\n",
       "      <th>3</th>\n",
       "      <td>2018-11-13</td>\n",
       "      <td>85531.0</td>\n",
       "      <td>85941.0</td>\n",
       "      <td>84071.0</td>\n",
       "      <td>84914.0</td>\n",
       "      <td>84914.0</td>\n",
       "      <td>4410700</td>\n",
       "    </tr>\n",
       "    <tr>\n",
       "      <th>4</th>\n",
       "      <td>2018-11-14</td>\n",
       "      <td>84898.0</td>\n",
       "      <td>85973.0</td>\n",
       "      <td>84267.0</td>\n",
       "      <td>85973.0</td>\n",
       "      <td>85973.0</td>\n",
       "      <td>5591600</td>\n",
       "    </tr>\n",
       "  </tbody>\n",
       "</table>\n",
       "</div>"
      ],
      "text/plain": [
       "         Date     Open     High      Low    Close  Adj Close   Volume\n",
       "0  2018-11-08  87719.0  88570.0  85620.0  85620.0    85620.0  5297700\n",
       "1  2018-11-09  85620.0  86233.0  84030.0  85641.0    85641.0  4814400\n",
       "2  2018-11-12  85644.0  86227.0  85009.0  85525.0    85525.0  3534000\n",
       "3  2018-11-13  85531.0  85941.0  84071.0  84914.0    84914.0  4410700\n",
       "4  2018-11-14  84898.0  85973.0  84267.0  85973.0    85973.0  5591600"
      ]
     },
     "execution_count": 3,
     "metadata": {},
     "output_type": "execute_result"
    }
   ],
   "source": [
    "ibov.head()"
   ]
  },
  {
   "cell_type": "markdown",
   "metadata": {},
   "source": [
    "## Vamos analisar apenas os dados de fechamento"
   ]
  },
  {
   "cell_type": "code",
   "execution_count": 4,
   "metadata": {},
   "outputs": [
    {
     "data": {
      "text/plain": [
       "0    85620.0\n",
       "1    85641.0\n",
       "2    85525.0\n",
       "3    84914.0\n",
       "4    85973.0\n",
       "Name: Close, dtype: float64"
      ]
     },
     "execution_count": 4,
     "metadata": {},
     "output_type": "execute_result"
    }
   ],
   "source": [
    "ibov[\"Close\"].head()"
   ]
  },
  {
   "cell_type": "markdown",
   "metadata": {},
   "source": [
    "## Criando um novo Dataset com apenas as informações necessárias (data e fechamento) para a análise:"
   ]
  },
  {
   "cell_type": "code",
   "execution_count": 5,
   "metadata": {},
   "outputs": [],
   "source": [
    "ibov=pd.DataFrame(ibov, columns=['Date','Close'])\n"
   ]
  },
  {
   "cell_type": "markdown",
   "metadata": {},
   "source": [
    "## Dataset do Ibovespa para o modelo:"
   ]
  },
  {
   "cell_type": "code",
   "execution_count": 6,
   "metadata": {},
   "outputs": [
    {
     "data": {
      "text/html": [
       "<div>\n",
       "<style scoped>\n",
       "    .dataframe tbody tr th:only-of-type {\n",
       "        vertical-align: middle;\n",
       "    }\n",
       "\n",
       "    .dataframe tbody tr th {\n",
       "        vertical-align: top;\n",
       "    }\n",
       "\n",
       "    .dataframe thead th {\n",
       "        text-align: right;\n",
       "    }\n",
       "</style>\n",
       "<table border=\"1\" class=\"dataframe\">\n",
       "  <thead>\n",
       "    <tr style=\"text-align: right;\">\n",
       "      <th></th>\n",
       "      <th>Date</th>\n",
       "      <th>Close</th>\n",
       "    </tr>\n",
       "  </thead>\n",
       "  <tbody>\n",
       "    <tr>\n",
       "      <th>0</th>\n",
       "      <td>2018-11-08</td>\n",
       "      <td>85620.0</td>\n",
       "    </tr>\n",
       "    <tr>\n",
       "      <th>1</th>\n",
       "      <td>2018-11-09</td>\n",
       "      <td>85641.0</td>\n",
       "    </tr>\n",
       "    <tr>\n",
       "      <th>2</th>\n",
       "      <td>2018-11-12</td>\n",
       "      <td>85525.0</td>\n",
       "    </tr>\n",
       "    <tr>\n",
       "      <th>3</th>\n",
       "      <td>2018-11-13</td>\n",
       "      <td>84914.0</td>\n",
       "    </tr>\n",
       "    <tr>\n",
       "      <th>4</th>\n",
       "      <td>2018-11-14</td>\n",
       "      <td>85973.0</td>\n",
       "    </tr>\n",
       "  </tbody>\n",
       "</table>\n",
       "</div>"
      ],
      "text/plain": [
       "         Date    Close\n",
       "0  2018-11-08  85620.0\n",
       "1  2018-11-09  85641.0\n",
       "2  2018-11-12  85525.0\n",
       "3  2018-11-13  84914.0\n",
       "4  2018-11-14  85973.0"
      ]
     },
     "execution_count": 6,
     "metadata": {},
     "output_type": "execute_result"
    }
   ],
   "source": [
    "ibov.head()"
   ]
  },
  {
   "cell_type": "markdown",
   "metadata": {},
   "source": [
    "## Separando os dados:"
   ]
  },
  {
   "cell_type": "code",
   "execution_count": 7,
   "metadata": {},
   "outputs": [],
   "source": [
    "date=ibov['Date']\n",
    "pontos=ibov['Close']\n"
   ]
  },
  {
   "cell_type": "markdown",
   "metadata": {},
   "source": [
    "## Gráfico do Ibovespa durante os anos de 2018 e 2019."
   ]
  },
  {
   "cell_type": "code",
   "execution_count": null,
   "metadata": {},
   "outputs": [],
   "source": [
    "plt.figure(1, figsize=(10,6))\n",
    "plt.plot(date, pontos)\n",
    "plt.title('Ibov [2018 - 2019]', fontsize=16)\n",
    "plt.xlabel('Dias', fontsize=14)\n",
    "plt.ylabel('Pontos', fontsize=14)\n",
    "plt.show();\n",
    "\n"
   ]
  },
  {
   "cell_type": "markdown",
   "metadata": {},
   "source": [
    "## Boxplot do índice Ibovespa\n"
   ]
  },
  {
   "cell_type": "code",
   "execution_count": null,
   "metadata": {
    "scrolled": true
   },
   "outputs": [],
   "source": [
    "ibov.boxplot();\n"
   ]
  },
  {
   "cell_type": "markdown",
   "metadata": {},
   "source": [
    "Nesse boxplot, é possível observar que, nesse período analisado, o indíce mantém a maioria dos seus valores entre 95.000 a 102.000 pontos, além disso, é possível observar a média do período, próximo a 97.000 pontos"
   ]
  },
  {
   "cell_type": "markdown",
   "metadata": {},
   "source": [
    "## Histograma do Ibovespa"
   ]
  },
  {
   "cell_type": "code",
   "execution_count": null,
   "metadata": {
    "scrolled": true
   },
   "outputs": [],
   "source": [
    "ibov.hist();"
   ]
  },
  {
   "cell_type": "markdown",
   "metadata": {},
   "source": [
    " Pelo histograma, é possivel analisar que as maiorias dos dados se encontram entre 95.000 pontos a 102.000 pontos."
   ]
  },
  {
   "cell_type": "markdown",
   "metadata": {},
   "source": [
    "## Pontos importantes:"
   ]
  },
  {
   "cell_type": "code",
   "execution_count": null,
   "metadata": {},
   "outputs": [],
   "source": [
    "ibov.describe()"
   ]
  },
  {
   "cell_type": "markdown",
   "metadata": {},
   "source": [
    "## Ponto mínimo  "
   ]
  },
  {
   "cell_type": "markdown",
   "metadata": {},
   "source": [
    "Este é o ponto mínimo do índice Ibovespa."
   ]
  },
  {
   "cell_type": "code",
   "execution_count": null,
   "metadata": {},
   "outputs": [],
   "source": [
    "ibov.min()"
   ]
  },
  {
   "cell_type": "markdown",
   "metadata": {},
   "source": [
    "## Ponto máximo"
   ]
  },
  {
   "cell_type": "markdown",
   "metadata": {},
   "source": [
    "Este é o ponto máximo do índice Ibovespa."
   ]
  },
  {
   "cell_type": "code",
   "execution_count": null,
   "metadata": {},
   "outputs": [],
   "source": [
    "ibov.max()"
   ]
  },
  {
   "cell_type": "markdown",
   "metadata": {},
   "source": [
    "## Média"
   ]
  },
  {
   "cell_type": "code",
   "execution_count": null,
   "metadata": {},
   "outputs": [],
   "source": [
    "ibov.mean()"
   ]
  },
  {
   "cell_type": "markdown",
   "metadata": {},
   "source": [
    "## Modelo: "
   ]
  },
  {
   "cell_type": "markdown",
   "metadata": {},
   "source": [
    "## Primeiro, vamos fazer um modelo baseado apenas no índice anterior:"
   ]
  },
  {
   "cell_type": "markdown",
   "metadata": {},
   "source": [
    "$$\\bar{Y}=\\beta_0 + \\beta_1*Y[n-1]$$"
   ]
  },
  {
   "cell_type": "markdown",
   "metadata": {},
   "source": [
    "### Criando um dataset com o Índice Ibov anterior:"
   ]
  },
  {
   "cell_type": "code",
   "execution_count": null,
   "metadata": {},
   "outputs": [],
   "source": [
    "lista = np.array(pontos)\n",
    "lista=lista[1:]\n",
    "ibov_anterior=pd.DataFrame(lista)\n",
    "\n",
    "\n",
    "\n",
    "\n",
    "ibov_novo=ibov.join(ibov_anterior, lsuffix='_caller', rsuffix='_other')\n",
    "ibovespa=ibov_novo.rename(columns={\"Close\": \"Fechamento anterior\", 0: \"Fechamento\"})\n",
    "ibovespa=ibovespa.dropna()\n",
    "ibovespa.head()\n"
   ]
  },
  {
   "cell_type": "code",
   "execution_count": null,
   "metadata": {},
   "outputs": [],
   "source": [
    "anterior=ibovespa[\"Fechamento anterior\"]\n",
    "fechamento=ibovespa[\"Fechamento\"]\n",
    "\n",
    "ibovespa.corr()"
   ]
  },
  {
   "cell_type": "markdown",
   "metadata": {},
   "source": [
    "Como observado na matriz de correlacao acima, vemos que o retorno passado tem grande correlacao com o retorno presente."
   ]
  },
  {
   "cell_type": "markdown",
   "metadata": {},
   "source": [
    "### Separar dados para treinamento e teste"
   ]
  },
  {
   "cell_type": "code",
   "execution_count": null,
   "metadata": {},
   "outputs": [],
   "source": [
    "train, test = train_test_split(ibovespa, test_size=0.2, random_state = 1)"
   ]
  },
  {
   "cell_type": "markdown",
   "metadata": {},
   "source": [
    "### Treinamento"
   ]
  },
  {
   "cell_type": "code",
   "execution_count": null,
   "metadata": {},
   "outputs": [],
   "source": [
    "X_train = np.array(train[\"Fechamento anterior\"]).reshape(-1, 1)\n",
    "y_train = train['Fechamento']"
   ]
  },
  {
   "cell_type": "code",
   "execution_count": null,
   "metadata": {},
   "outputs": [],
   "source": [
    "model = LinearRegression()\n",
    "model.fit(X_train, y_train)\n",
    "y_pred = model.predict(X_train)"
   ]
  },
  {
   "cell_type": "code",
   "execution_count": null,
   "metadata": {},
   "outputs": [],
   "source": [
    "print(\"B0=\",model.intercept_)\n",
    "print(\"B1=\",model.coef_)"
   ]
  },
  {
   "cell_type": "markdown",
   "metadata": {},
   "source": [
    "Podemos observar que o coeficiente B1 deu muito proximo da correlação de ambas pontuacoes, tal fato pode ser explicado devido a correlacao estar proxima de 1, sendo assim, a variacao de uma unidade no regressor, impactaria numa variacao igual na variavel preditiva, fazendo com que o coeficiente B1 da regressao capte o mesmo efeito."
   ]
  },
  {
   "cell_type": "code",
   "execution_count": null,
   "metadata": {},
   "outputs": [],
   "source": [
    "plt.figure(1, figsize=(10,6))\n",
    "plt.title('Regressão Linear  | Treinameto' )\n",
    "plt.scatter(X_train, y_train, label='Pontuação')\n",
    "plt.plot(X_train, y_pred, color='r', label='Regressão')\n",
    "plt.xlabel('Pontuação passada')\n",
    "plt.ylabel('Pontuação presente')\n",
    "plt.legend()\n",
    "plt.show()"
   ]
  },
  {
   "cell_type": "markdown",
   "metadata": {},
   "source": [
    "#### Teste"
   ]
  },
  {
   "cell_type": "code",
   "execution_count": null,
   "metadata": {},
   "outputs": [],
   "source": [
    "X_test = np.array(test[\"Fechamento anterior\"]).reshape(-1, 1)\n",
    "y_test = test['Fechamento']\n"
   ]
  },
  {
   "cell_type": "code",
   "execution_count": null,
   "metadata": {},
   "outputs": [],
   "source": [
    "y_previsto=X_test*0.98965823+1109.8830689665774\n"
   ]
  },
  {
   "cell_type": "code",
   "execution_count": null,
   "metadata": {},
   "outputs": [],
   "source": [
    "plt.figure(1, figsize=(10,6))\n",
    "plt.title('Regressão Linear  | Teste' )\n",
    "plt.scatter(X_test, y_test, label='Pontuação')\n",
    "plt.plot(X_test, y_previsto, color='r', label='Regressão')\n",
    "plt.xlabel('Pontuação passada')\n",
    "plt.ylabel('Pontuação presente')\n",
    "plt.legend()\n",
    "plt.show()"
   ]
  },
  {
   "cell_type": "markdown",
   "metadata": {},
   "source": [
    "### R² (modelo com um passo atrás)"
   ]
  },
  {
   "cell_type": "code",
   "execution_count": null,
   "metadata": {},
   "outputs": [],
   "source": [
    "metrics.r2_score(y_train, y_pred)"
   ]
  },
  {
   "cell_type": "markdown",
   "metadata": {},
   "source": [
    "Como o R² se aproximou de 100%, aproximadamente 95%, isto é um indicativo de que a variável preditiva, é explicada pelo regressor x, no caso, o índice defasado a um passo atrás."
   ]
  },
  {
   "cell_type": "markdown",
   "metadata": {},
   "source": [
    "## Agora, vamos fazer um modelo baseado no índice defasado respectivamente, de um a quatro passos atrás:"
   ]
  },
  {
   "cell_type": "markdown",
   "metadata": {},
   "source": [
    "$$\\bar{Y}=\\beta_0 + \\beta_1*Y[n-1] + \\beta_2*Y[n-2] + \\beta_3*Y[n-3] + \\beta_4*Y[n-4]$$"
   ]
  },
  {
   "cell_type": "code",
   "execution_count": null,
   "metadata": {},
   "outputs": [],
   "source": [
    "vals=fechamento.values\n",
    "K = 5\n",
    "n = len(vals)\n",
    "x_dias = []\n",
    "for k in range(K):\n",
    "    x = vals[k:(n-K+k)]\n",
    "    x_dias.append(x)\n",
    "\n",
    "x_dias = np.array(x_dias).transpose()\n",
    "\n",
    "ibov_anterior1=pd.DataFrame(x_dias)\n",
    "X = x_dias[:, :-1]\n",
    "y = x_dias[:, -1:]"
   ]
  },
  {
   "cell_type": "markdown",
   "metadata": {},
   "source": [
    "Aqui é separado os dados de teste e os dados para treinamento, os dados dados foram separados na seguinte proporção: 20% para teste e 80% para treinamento\n"
   ]
  },
  {
   "cell_type": "code",
   "execution_count": null,
   "metadata": {},
   "outputs": [],
   "source": [
    "random.seed( 30 )\n",
    "X_train, X_test, y_train, y_test = train_test_split(X, y, test_size=0.2, random_state = 1)"
   ]
  },
  {
   "cell_type": "code",
   "execution_count": null,
   "metadata": {},
   "outputs": [],
   "source": [
    "model = LinearRegression()\n",
    "model.fit(X_train, y_train)\n",
    "y_pred = model.predict(X_train)"
   ]
  },
  {
   "cell_type": "code",
   "execution_count": null,
   "metadata": {},
   "outputs": [],
   "source": [
    "B0=model.intercept_\n",
    "B=model.coef_\n",
    "\n",
    "print(\"B0=\",model.intercept_)\n",
    "print(\"B's=\",model.coef_)\n"
   ]
  },
  {
   "cell_type": "markdown",
   "metadata": {},
   "source": [
    "Podemos observar nesse modelo, que o índice defasado a três passos atrás, impacta negativamente no índice presente. Assim como, o índice defasado a um, dois e quatro passos atrás, demonstram estar relacionados positivamente com o índice presente."
   ]
  },
  {
   "cell_type": "code",
   "execution_count": null,
   "metadata": {},
   "outputs": [],
   "source": [
    "plt.figure(1, figsize=(10,6))\n",
    "plt.title('Regressão Linear  | Treinameto' )\n",
    "plt.scatter(X_train[:,3], y_train, label='Pontuação')\n",
    "plt.plot(X_train[:,3], y_pred, color='r', label='Regressão')\n",
    "plt.xlabel('Pontos')\n",
    "plt.ylabel('Pontuação')\n",
    "plt.legend()\n",
    "plt.show()"
   ]
  },
  {
   "cell_type": "code",
   "execution_count": null,
   "metadata": {},
   "outputs": [],
   "source": [
    "x=X_test"
   ]
  },
  {
   "cell_type": "code",
   "execution_count": null,
   "metadata": {},
   "outputs": [],
   "source": [
    "y_previsao=[]\n",
    "i=0\n",
    "while i < len(x):\n",
    "    y_previsao.append(2583.24420774+X_test[i][0]*0.00249712+X_test[i][1]*0.07289824+X_test[i][2]*-0.10062166+X_test[i][3]*0.99975053)\n",
    "    i+=1\n",
    "      \n"
   ]
  },
  {
   "cell_type": "code",
   "execution_count": null,
   "metadata": {},
   "outputs": [],
   "source": [
    "plt.figure(1, figsize=(10,6))\n",
    "plt.title('Regressão Linear  |  Teste')\n",
    "plt.plot(X_test[:,3], y_previsao , color='r', label='Regressão')\n",
    "plt.scatter(X_test[:,3], y_test, edgecolor='w', label='Pontos')\n",
    "plt.xlabel('Pontos')\n",
    "plt.ylabel('Pontos')\n",
    "\n",
    "plt.show()"
   ]
  },
  {
   "cell_type": "markdown",
   "metadata": {},
   "source": [
    "## R² (modelo de 1 a 4  passos atrás):"
   ]
  },
  {
   "cell_type": "code",
   "execution_count": null,
   "metadata": {},
   "outputs": [],
   "source": [
    "metrics.r2_score(y_train, y_pred)"
   ]
  },
  {
   "cell_type": "markdown",
   "metadata": {},
   "source": [
    "# Análise dos resíduos "
   ]
  },
  {
   "cell_type": "markdown",
   "metadata": {},
   "source": [
    "A Análise de Resíduos consiste em um conjunto de técnicas para investigar a adequabilidade do modelo com base nos resíduos.\n",
    "\n"
   ]
  },
  {
   "cell_type": "code",
   "execution_count": null,
   "metadata": {},
   "outputs": [],
   "source": [
    "e=(y_previsto[1:]-y_test)**2\n"
   ]
  },
  {
   "cell_type": "code",
   "execution_count": null,
   "metadata": {},
   "outputs": [],
   "source": [
    "from scipy.stats import norm\n",
    "\n",
    "mu, std = norm.fit(e)\n",
    "        \n",
    "x = np.linspace(min(e), max(e), 100)\n",
    "p = norm.pdf(x, mu, std)\n",
    "plt.hist(e, density=True)\n",
    "\n",
    "plt.plot(x, p)\n",
    "plt.show()\n",
    "\n",
    "\n"
   ]
  },
  {
   "cell_type": "markdown",
   "metadata": {},
   "source": [
    "Como podemos observar os resíduos não seguem uma distribuição normal, isso pode ser explicado pela aleatoriedade do índice."
   ]
  },
  {
   "cell_type": "code",
   "execution_count": null,
   "metadata": {},
   "outputs": [],
   "source": [
    "eb=e.mean()\n",
    "eb=eb**(1/2)"
   ]
  },
  {
   "cell_type": "markdown",
   "metadata": {},
   "source": [
    "# Conclusão:"
   ]
  },
  {
   "cell_type": "markdown",
   "metadata": {},
   "source": [
    "$Yn=\\beta_0+\\beta_1Y(n-1)+\\beta_2Y(n-2)+\\beta_3Y(n-3)+\\beta_4Y(n-4)$ + $\\epsilon_i$"
   ]
  },
  {
   "cell_type": "code",
   "execution_count": null,
   "metadata": {},
   "outputs": [],
   "source": [
    "y=fechamento\n",
    "y=np.array(y)\n",
    "pred=[]\n",
    "\n",
    "len(y)"
   ]
  },
  {
   "cell_type": "code",
   "execution_count": null,
   "metadata": {},
   "outputs": [],
   "source": [
    "n=0\n",
    "while n < len(y)+1:\n",
    "    if n>5:\n",
    "        pred.append(1799.20843632+0.00249712*y[n-1]+0.07289824*y[n-2]-0.15793943*y[n-3]+0.99975053*y[n-4]+eb)\n",
    "    n+=1\n",
    "\n",
    "\n",
    "len(pred)\n"
   ]
  },
  {
   "cell_type": "code",
   "execution_count": null,
   "metadata": {},
   "outputs": [],
   "source": [
    "plt.figure(1, figsize=(10,6))\n",
    "plt.scatter(date[6:], pontos[6:])\n",
    "plt.title('Ibov [2018 - 2019]', fontsize=16)\n",
    "plt.plot(date[6:], pred, color='r', label='Regressão')\n",
    "plt.xlabel('Dias', fontsize=14)\n",
    "plt.ylabel('Pontos', fontsize=14)\n",
    "plt.show();"
   ]
  },
  {
   "cell_type": "markdown",
   "metadata": {},
   "source": [
    " Como o mercado de ações é de certa maneira imprevisível, dificilmente o modelo funcionará perfeitamente, pois não é possível saber como o mercado reagirá numa possível catástrofe ecônomica, nem em momentos de euforia. No entanto, ao analisar o passado do índice, é possível concluir que ao fazer uma auto-regressão, o modelo se mostra até que bem."
   ]
  },
  {
   "cell_type": "markdown",
   "metadata": {},
   "source": [
    "Quando consultado a literatura de artigos financeiros, identifiquei que os mesmos seguem passeio aleatorio, logo, nao podem ser previstos.\n",
    "\n"
   ]
  },
  {
   "cell_type": "markdown",
   "metadata": {},
   "source": [
    "Quando analisado o modelo de regressao de linear utilizado pelo modelo, esse se aproxima muito de um processo autoregressivo, o primeiro de ordem 1 e o segundo de ordem 4"
   ]
  },
  {
   "cell_type": "markdown",
   "metadata": {},
   "source": [
    "## Referências:\n",
    "\n",
    "    - Montgomery. Cap 11, pág 333.\n",
    "    -https://scikit-learn.org/stable/modules/generated/sklearn.metrics.explained_variance_score.html#sklearn.metrics.explained_variance_score\n",
    "    -https://scikit-learn.org/stable/modules/model_evaluation.html\n",
    "    -http://www.b3.com.br/pt_br/\n",
    "    -https://finance.yahoo.com/"
   ]
  },
  {
   "cell_type": "code",
   "execution_count": null,
   "metadata": {},
   "outputs": [],
   "source": []
  },
  {
   "cell_type": "code",
   "execution_count": null,
   "metadata": {},
   "outputs": [],
   "source": []
  }
 ],
 "metadata": {
  "kernelspec": {
   "display_name": "Python 3",
   "language": "python",
   "name": "python3"
  },
  "language_info": {
   "codemirror_mode": {
    "name": "ipython",
    "version": 3
   },
   "file_extension": ".py",
   "mimetype": "text/x-python",
   "name": "python",
   "nbconvert_exporter": "python",
   "pygments_lexer": "ipython3",
   "version": "3.7.3"
  }
 },
 "nbformat": 4,
 "nbformat_minor": 2
}
